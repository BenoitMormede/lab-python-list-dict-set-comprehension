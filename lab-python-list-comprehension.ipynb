{
 "cells": [
  {
   "cell_type": "markdown",
   "id": "25d7736c-ba17-4aff-b6bb-66eba20fbf4e",
   "metadata": {},
   "source": [
    "# Lab | List, Dict and Set Comprehension"
   ]
  },
  {
   "cell_type": "markdown",
   "id": "7dd3cbde-675a-4b81-92c3-f728846dbe06",
   "metadata": {},
   "source": [
    "## Exercise: Managing Customer Orders Optimized with Comprehension"
   ]
  },
  {
   "cell_type": "code",
   "execution_count": 354,
   "id": "be62aec7-8e54-41a8-be4f-acb834d2a57c",
   "metadata": {},
   "outputs": [],
   "source": [
    "#1 define function initialize_inventory\n",
    "\n",
    "def initialize_inventory(products):\n",
    "    inventory = {product: int(input(f\"Enter the quantity for {product}\")) for product in products}\n",
    "    return inventory\n",
    "    \n",
    "#2 get customer order\n",
    "\n",
    "def get_customer_orders():\n",
    "    num_orders = int(input(\"Enter the number of customer orders: \"))\n",
    "    return {input(\"Enter the name of a product that a customer wants to order:\") for i in range(num_orders)}\n",
    "\n",
    "#3 Update inventory\n",
    "\n",
    "def update_inventory(customer_orders, inventory):\n",
    "    inventory = {product: quantity for product, quantity in inventory.items() if quantity > 0}\n",
    "    inventory = {product: inventory[product]-1 if product in customer_orders else inventory[product] for product in inventory}\n",
    "    inventory = {product: quantity for product, quantity in inventory.items() if quantity > 0}\n",
    "    return inventory\n",
    "\n",
    "#4 calculate order_statistics\n",
    "\n",
    "def calculate_order_statistics (my_customer_orders,products):\n",
    "    order_status = (len(my_customer_orders),len(my_customer_orders)/len(products)*100)\n",
    "    return order_status\n",
    "\n",
    "#5 print order_statistics\n",
    "\n",
    "def print_order_statistics (order_statistics):\n",
    "    print(\"Order statistics\")\n",
    "    print(f\"Total products ordered: {order_statistics[0]}\")\n",
    "    print(f\"Percentage of Products Ordered: {order_statistics[1]} %\")\n",
    "\n",
    "#step 6: printing update inventory\n",
    "\n",
    "def print_updated_inventory(inventory):\n",
    "    print(\"Updated Inventory:\")\n",
    "    [print(f\"{product} : {quantity}\") for product, quantity in inventory.items()]\n",
    "\n",
    "#step 7: calculating total price\n",
    "def calculate_total_price(customer_orders):\n",
    "    total_price = [float(input(f\"Enter the price of {product}: \")) for product in customer_orders]\n",
    "    return sum(total_price)\n",
    "\n"
   ]
  },
  {
   "cell_type": "code",
   "execution_count": 360,
   "id": "b0f6e9e0-3cf0-4d47-9208-40f5ebe4fc6e",
   "metadata": {},
   "outputs": [
    {
     "name": "stdin",
     "output_type": "stream",
     "text": [
      "Enter the quantity for t-shirt 10\n",
      "Enter the quantity for mug 10\n",
      "Enter the quantity for hat 10\n",
      "Enter the quantity for book 10\n",
      "Enter the quantity for keychain 10\n",
      "Enter the number of customer orders:  1\n",
      "Enter the name of a product that a customer wants to order: mug\n"
     ]
    },
    {
     "name": "stdout",
     "output_type": "stream",
     "text": [
      "Order statistics\n",
      "Total products ordered: 1\n",
      "Percentage of Products Ordered: 20.0 %\n",
      "Updated Inventory:\n",
      "t-shirt : 10\n",
      "mug : 9\n",
      "hat : 10\n",
      "book : 10\n",
      "keychain : 10\n"
     ]
    },
    {
     "name": "stdin",
     "output_type": "stream",
     "text": [
      "Enter the price of book:  5\n",
      "Enter the price of hat:  6\n"
     ]
    },
    {
     "name": "stdout",
     "output_type": "stream",
     "text": [
      "total price:  11.0\n"
     ]
    }
   ],
   "source": [
    "products = [\"t-shirt\", \"mug\", \"hat\", \"book\", \"keychain\"] \n",
    "my_inventory = initialize_inventory(products) \n",
    "my_customer_orders = get_customer_orders() \n",
    "my_inventory = update_inventory(my_customer_orders, my_inventory) \n",
    "order_statistics = calculate_order_statistics (my_customer_orders,products) \n",
    "print_order_statistics (order_statistics) \n",
    "print_updated_inventory(my_inventory) \n",
    "total_price=calculate_total_price(customer_orders) \n",
    "print(\"total price: \", total_price)"
   ]
  },
  {
   "cell_type": "markdown",
   "id": "b1639bf7-d41a-4950-8e5f-3bca4c0676f4",
   "metadata": {},
   "source": [
    "products = [\"t-shirt\", \"mug\", \"hat\", \"book\", \"keychain\"]\n",
    "my_inventory = initialize_inventory(products)\n",
    "my_customer_orders = get_customer_orders()\n",
    "my_inventory = update_inventory(my_customer_orders, my_inventory)\n",
    "order_statistics = calculate_order_statistics (customer_orders,products)\n",
    "print_order_statistics (order_statistics)\n",
    "print_updated_inventory(my_inventory)\n",
    "total_price=calculate_total_price(customer_orders)\n",
    "print(\"total price: \", total_price)"
   ]
  },
  {
   "cell_type": "markdown",
   "id": "5d500160-2fb7-4777-b5e4-09d45ebaf328",
   "metadata": {},
   "source": [
    "In the previous exercise, you developed a program to manage customer orders and inventory. Now, let's take it a step further and incorporate comprehension into your code.\n",
    "\n",
    "Follow the steps below to complete the exercise:\n",
    "\n",
    "1. Review your code from the previous exercise and identify areas where you can apply comprehension to simplify and streamline your code. \n",
    "\n",
    "    - *Hint: Apply it to initialize inventory, updating the inventory and printing the updated inventory.*\n",
    "    \n",
    "    - For example, in initializing the inventory, we could have:\n",
    "    \n",
    "        ```python\n",
    "        def initialize_inventory(products):\n",
    "            inventory = {product: int(input(f\"Enter the quantity of {product}s available: \")) for product in products}\n",
    "            return inventory\n",
    "\n",
    "        ```\n",
    "<br>\n",
    "    \n",
    "    \n",
    "2. Modify the function get_customer_orders so it prompts the user to enter the number of customer orders and gathers the product names using a loop and user input. Use comprehension.\n",
    "\n",
    "3. Add a new function to calculate the total price of the customer order. For each product in customer_orders, prompt the user to enter the price of that product. Use comprehension to calculate the total price. Note: assume that the user can only have 1 unit of each product.\n",
    "\n",
    "4. Modify the update_inventory function to remove the product from the inventory if its quantity becomes zero after fulfilling the customer orders. Use comprehension to filter out the products with a quantity of zero from the inventory.\n",
    "\n",
    "5. Print the total price of the customer order.\n",
    "\n",
    "Your code should produce output similar to the following:\n",
    "\n",
    "```python\n",
    "Enter the quantity of t-shirts available:  5\n",
    "Enter the quantity of mugs available:  4\n",
    "Enter the quantity of hats available:  3\n",
    "Enter the quantity of books available:  2\n",
    "Enter the quantity of keychains available:  1\n",
    "Enter the number of customer orders:  2\n",
    "Enter the name of a product that a customer wants to order:  hat\n",
    "Enter the name of a product that a customer wants to order:  keychain\n",
    "\n",
    "Order Statistics:\n",
    "Total Products Ordered: 2\n",
    "Percentage of Unique Products Ordered: 40.0\n",
    "\n",
    "Updated Inventory:\n",
    "t-shirt: 5\n",
    "mug: 4\n",
    "hat: 2\n",
    "book: 2\n",
    "Enter the price of keychain:  5\n",
    "Enter the price of hat:  10\n",
    "Total Price: 15.0\n",
    "\n",
    "```\n"
   ]
  }
 ],
 "metadata": {
  "kernelspec": {
   "display_name": "Python 3 (ipykernel)",
   "language": "python",
   "name": "python3"
  },
  "language_info": {
   "codemirror_mode": {
    "name": "ipython",
    "version": 3
   },
   "file_extension": ".py",
   "mimetype": "text/x-python",
   "name": "python",
   "nbconvert_exporter": "python",
   "pygments_lexer": "ipython3",
   "version": "3.12.4"
  }
 },
 "nbformat": 4,
 "nbformat_minor": 5
}
